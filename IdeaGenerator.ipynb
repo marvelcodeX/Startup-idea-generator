{
  "nbformat": 4,
  "nbformat_minor": 0,
  "metadata": {
    "colab": {
      "provenance": [],
      "authorship_tag": "ABX9TyMy1LjceVltOumDGbyhiIxC",
      "include_colab_link": true
    },
    "kernelspec": {
      "name": "python3",
      "display_name": "Python 3"
    },
    "language_info": {
      "name": "python"
    }
  },
  "cells": [
    {
      "cell_type": "markdown",
      "metadata": {
        "id": "view-in-github",
        "colab_type": "text"
      },
      "source": [
        "<a href=\"https://colab.research.google.com/github/marvelcodeX/Startup-idea-generator/blob/main/IdeaGenerator.ipynb\" target=\"_parent\"><img src=\"https://colab.research.google.com/assets/colab-badge.svg\" alt=\"Open In Colab\"/></a>"
      ]
    },
    {
      "cell_type": "markdown",
      "source": [
        "# Install dependencies"
      ],
      "metadata": {
        "id": "1fUhJyrUc1ox"
      }
    },
    {
      "cell_type": "code",
      "execution_count": null,
      "metadata": {
        "id": "ISn3-RAtSGF2"
      },
      "outputs": [],
      "source": [
        "!pip install -q transformers gradio torch accelerate"
      ]
    },
    {
      "cell_type": "markdown",
      "source": [
        "# Import libraries and load the model"
      ],
      "metadata": {
        "id": "K_tss33Zc-W4"
      }
    },
    {
      "cell_type": "code",
      "source": [
        "from transformers import pipeline\n",
        "import gradio as gr\n",
        "\n",
        "generator = pipeline(\n",
        "    \"text2text-generation\",\n",
        "    model=\"MBZUAI/LaMini-Flan-T5-783M\",\n",
        "    device_map=\"auto\"\n",
        ")"
      ],
      "metadata": {
        "collapsed": true,
        "id": "zD33Y-x0U8oz"
      },
      "execution_count": null,
      "outputs": []
    },
    {
      "cell_type": "markdown",
      "source": [
        "# Define the startup pitch generator function"
      ],
      "metadata": {
        "id": "DQ-JdGYZdKxY"
      }
    },
    {
      "cell_type": "code",
      "source": [
        "def generate_idea(domain):\n",
        "  if not domain or not domain.strip():\n",
        "    return \"⚠️Please provide a domain (e.g., Argitech, Fintech, EdTech)\"\n",
        "\n",
        "  prompt = f\"\"\"\n",
        "  Generate a startup pitch for the domain: {domain}.\n",
        "  Include the following sentences:\n",
        "\n",
        "    1) Business Idea (2-2 sentences)\n",
        "    2) Problem Statement (explain the challenge clearly)\n",
        "    3) Solution (explain how the startup solves it)\n",
        "\"\"\"\n",
        "\n",
        "  result = generator(\n",
        "      prompt,\n",
        "      max_new_tokens=1000,\n",
        "      do_sample=True,\n",
        "      temperature=0.8\n",
        "  )\n",
        "  return result[0][\"generated_text\"]"
      ],
      "metadata": {
        "id": "UD4t6hq4VMc2"
      },
      "execution_count": null,
      "outputs": []
    },
    {
      "cell_type": "markdown",
      "source": [
        "# Build the Gradio interface"
      ],
      "metadata": {
        "id": "F1xY6CQYdQfR"
      }
    },
    {
      "cell_type": "code",
      "source": [
        "demo = gr.Interface(\n",
        "    fn=generate_idea,\n",
        "    inputs=gr.Textbox(label=\"Domain of Intrest\", placeholder=\"e.g. AgriTech\"),\n",
        "    outputs=\"text\",\n",
        "    title=\"🚀Startup Idea\",\n",
        "    description=\"Enter a domain and get a  startup pitch with problem and solution\"\n",
        ")\n",
        "\n",
        "demo.launch(share=True)"
      ],
      "metadata": {
        "id": "pDlniuYwbNlX"
      },
      "execution_count": null,
      "outputs": []
    }
  ]
}